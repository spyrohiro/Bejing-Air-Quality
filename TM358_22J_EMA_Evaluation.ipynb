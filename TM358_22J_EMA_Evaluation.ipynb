{
  "cells": [
    {
      "cell_type": "markdown",
      "id": "eb1d5462",
      "metadata": {
        "id": "eb1d5462"
      },
      "source": [
        "Bejing Air Quality Evaluation"
      ]
    },
    {
      "cell_type": "markdown",
      "id": "970ba873",
      "metadata": {
        "id": "970ba873"
      },
      "source": [
        "# Setup"
      ]
    },
    {
      "cell_type": "code",
      "execution_count": null,
      "id": "ae247f18",
      "metadata": {
        "id": "ae247f18"
      },
      "outputs": [],
      "source": [
        "import os\n",
        "import glob\n",
        "import numpy as np # linear algebra\n",
        "import random\n",
        "import json\n",
        "import joblib\n",
        "\n",
        "import matplotlib.pyplot as plt\n",
        "%matplotlib inline\n",
        "\n",
        "import tensorflow as tf\n",
        "import numpy as np\n",
        "from tensorflow.keras.layers import *\n",
        "from tensorflow.keras import Sequential, optimizers, metrics\n",
        "from tensorflow.keras import regularizers\n",
        "from sklearn.ensemble import RandomForestClassifier\n",
        "from tensorflow.keras import regularizers\n",
        "from sklearn.preprocessing import label_binarize\n",
        "from sklearn.metrics import confusion_matrix\n",
        "from sklearn.metrics import roc_auc_score, f1_score\n",
        "from sklearn.metrics import classification_report\n",
        "from sklearn.metrics import ConfusionMatrixDisplay\n",
        "from sklearn.decomposition import PCA"
      ]
    },
    {
      "cell_type": "code",
      "execution_count": null,
      "id": "a3008536",
      "metadata": {
        "id": "a3008536"
      },
      "outputs": [],
      "source": [
        "SEQUENCE_LEN = 5\n",
        "BATCH_SIZE = 128\n",
        "PM_25_BOUNDARIES = [35, 75, 150]\n",
        "NUM_CLASSES = len(PM_25_BOUNDARIES) + 1\n",
        "NUM_COLS = 16\n",
        "batch_size = BATCH_SIZE"
      ]
    },
    {
      "cell_type": "markdown",
      "id": "229cc1ca",
      "metadata": {
        "id": "229cc1ca"
      },
      "source": [
        "# PM 2.5 categorisation project"
      ]
    },
    {
      "cell_type": "markdown",
      "id": "428216d1",
      "metadata": {
        "id": "428216d1"
      },
      "source": [
        "This project looks at the weather recording stations data around Beijing it then uses various machine learning methods to predict PM2.5 concentrations, this notebook is the *Evaluation* notebook.\n",
        "\n",
        "it does this by classifying them into four categories:\n",
        "\n",
        "<=35\n",
        "\n",
        "36-75\n",
        "\n",
        "76-150\n",
        "\n",
        ",>151"
      ]
    },
    {
      "cell_type": "markdown",
      "id": "3c4dd74e",
      "metadata": {
        "id": "3c4dd74e"
      },
      "source": [
        "The evaluations in this notebook are from the PM2.5 categorisation project.\n",
        "\n",
        "data used is:"
      ]
    },
    {
      "cell_type": "code",
      "execution_count": null,
      "id": "e1e79f04",
      "metadata": {
        "id": "e1e79f04",
        "outputId": "f5628ef7-0012-4885-a053-4c3d05624aea"
      },
      "outputs": [
        {
          "data": {
            "text/plain": [
              "['/datasets/beijing-air/normalised/PRSA_Data_Gucheng_20130301-20170228.csv',\n",
              " '/datasets/beijing-air/normalised/PRSA_Data_Dongsi_20130301-20170228.csv',\n",
              " '/datasets/beijing-air/normalised/PRSA_Data_Aotizhongxin_20130301-20170228.csv',\n",
              " '/datasets/beijing-air/normalised/PRSA_Data_Nongzhanguan_20130301-20170228.csv',\n",
              " '/datasets/beijing-air/normalised/PRSA_Data_Wanshouxigong_20130301-20170228.csv',\n",
              " '/datasets/beijing-air/normalised/PRSA_Data_Wanliu_20130301-20170228.csv',\n",
              " '/datasets/beijing-air/normalised/PRSA_Data_Dingling_20130301-20170228.csv',\n",
              " '/datasets/beijing-air/normalised/PRSA_Data_Changping_20130301-20170228.csv',\n",
              " '/datasets/beijing-air/normalised/PRSA_Data_Tiantan_20130301-20170228.csv',\n",
              " '/datasets/beijing-air/normalised/PRSA_Data_Shunyi_20130301-20170228.csv',\n",
              " '/datasets/beijing-air/normalised/PRSA_Data_Guanyuan_20130301-20170228.csv',\n",
              " '/datasets/beijing-air/normalised/PRSA_Data_Huairou_20130301-20170228.csv']"
            ]
          },
          "execution_count": 3,
          "metadata": {},
          "output_type": "execute_result"
        }
      ],
      "source": [
        "# Load the dataset\n",
        "base_dir = '/datasets/beijing-air/normalised'\n",
        "datafiles = glob.glob(base_dir + '/*.csv')\n",
        "datafiles"
      ]
    },
    {
      "cell_type": "markdown",
      "id": "fbfa0bcb",
      "metadata": {
        "id": "fbfa0bcb"
      },
      "source": [
        "Datasets:\n",
        "\n",
        "The normalised data was batched and windowed, then PCA batched data was created. The regular data was then extracted to numpy data there was a 70-20-10 split of training, validation and test data.\n",
        "\n",
        "Models:\n",
        "\n",
        "lstm_base: the baseline lstm model\n",
        "\n",
        "lstm_pca: a lstm model with pca\n",
        "\n",
        "lstm_deep: a deeper model with dropout layers\n",
        "\n",
        "rfp: a regular randomforest with default parameters\n",
        "\n",
        "rfh: random_forest with changed hyper-paramters\n",
        "\n",
        "lstm_final: a lstm on the test data"
      ]
    },
    {
      "cell_type": "markdown",
      "id": "ce71f7dc",
      "metadata": {
        "id": "ce71f7dc"
      },
      "source": [
        "# Gather valid, test data"
      ]
    },
    {
      "cell_type": "code",
      "execution_count": null,
      "id": "b73b4dcc",
      "metadata": {
        "id": "b73b4dcc",
        "outputId": "381bb28a-b9a5-46ba-f7a5-26019cd8c42d"
      },
      "outputs": [
        {
          "data": {
            "text/plain": [
              "(['/datasets/beijing-air/normalised/PRSA_Data_Gucheng_20130301-20170228.csv',\n",
              "  '/datasets/beijing-air/normalised/PRSA_Data_Dongsi_20130301-20170228.csv',\n",
              "  '/datasets/beijing-air/normalised/PRSA_Data_Aotizhongxin_20130301-20170228.csv',\n",
              "  '/datasets/beijing-air/normalised/PRSA_Data_Nongzhanguan_20130301-20170228.csv',\n",
              "  '/datasets/beijing-air/normalised/PRSA_Data_Wanshouxigong_20130301-20170228.csv',\n",
              "  '/datasets/beijing-air/normalised/PRSA_Data_Wanliu_20130301-20170228.csv',\n",
              "  '/datasets/beijing-air/normalised/PRSA_Data_Dingling_20130301-20170228.csv'],\n",
              " ['/datasets/beijing-air/normalised/PRSA_Data_Changping_20130301-20170228.csv',\n",
              "  '/datasets/beijing-air/normalised/PRSA_Data_Tiantan_20130301-20170228.csv'],\n",
              " ['/datasets/beijing-air/normalised/PRSA_Data_Shunyi_20130301-20170228.csv',\n",
              "  '/datasets/beijing-air/normalised/PRSA_Data_Guanyuan_20130301-20170228.csv',\n",
              "  '/datasets/beijing-air/normalised/PRSA_Data_Huairou_20130301-20170228.csv'])"
            ]
          },
          "execution_count": 4,
          "metadata": {},
          "output_type": "execute_result"
        }
      ],
      "source": [
        "train_datafiles = datafiles[:7]\n",
        "validation_datafiles = datafiles[7:9]\n",
        "test_datafiles = datafiles[9:]\n",
        "train_datafiles, validation_datafiles, test_datafiles"
      ]
    },
    {
      "cell_type": "code",
      "execution_count": null,
      "id": "cc8a8441",
      "metadata": {
        "id": "cc8a8441"
      },
      "outputs": [],
      "source": [
        "def load_and_chain_ds(filenames):\n",
        "    base_ds = tf.data.experimental.make_csv_dataset(\n",
        "        filenames[0],\n",
        "        batch_size=BATCH_SIZE,\n",
        "        label_name='PM2.5',\n",
        "        shuffle=False, num_epochs=1,\n",
        "        )\n",
        "    for f in filenames[1:]:\n",
        "        d = tf.data.experimental.make_csv_dataset(\n",
        "            f,\n",
        "            batch_size=BATCH_SIZE,\n",
        "            label_name='PM2.5',\n",
        "            shuffle=False, num_epochs=1,\n",
        "            )\n",
        "        base_ds = base_ds.concatenate(d)\n",
        "    base_ds = base_ds.cache()\n",
        "    base_ds = base_ds.prefetch(tf.data.AUTOTUNE)\n",
        "    return base_ds"
      ]
    },
    {
      "cell_type": "code",
      "execution_count": null,
      "id": "564fc9db",
      "metadata": {
        "id": "564fc9db"
      },
      "outputs": [],
      "source": [
        "train_ds = load_and_chain_ds(train_datafiles)\n",
        "validation_ds = load_and_chain_ds(validation_datafiles)\n",
        "test_ds = load_and_chain_ds(test_datafiles)"
      ]
    },
    {
      "cell_type": "code",
      "execution_count": null,
      "id": "246bdd0c",
      "metadata": {
        "id": "246bdd0c"
      },
      "outputs": [],
      "source": [
        "pm25_categories = Discretization(bin_boundaries=PM_25_BOUNDARIES, output_mode='one_hot')\n",
        "\n",
        "@tf.function\n",
        "def merge_cols(x):\n",
        "    inputs = tf.convert_to_tensor(list(x.values()))\n",
        "    return tf.transpose(inputs)"
      ]
    },
    {
      "cell_type": "code",
      "execution_count": null,
      "id": "53b0c75c",
      "metadata": {
        "id": "53b0c75c",
        "outputId": "63152bea-218f-4f28-d1cc-4afe1b4f7117"
      },
      "outputs": [
        {
          "data": {
            "text/plain": [
              "<MapDataset element_spec=(TensorSpec(shape=(None, 16), dtype=tf.float32, name=None), TensorSpec(shape=(None, 4), dtype=tf.float32, name=None))>"
            ]
          },
          "execution_count": 8,
          "metadata": {},
          "output_type": "execute_result"
        }
      ],
      "source": [
        "train_ds = train_ds.map(lambda x, y: (\n",
        "    merge_cols(x), pm25_categories(y)))\n",
        "\n",
        "validation_ds = validation_ds.map(lambda x, y: (\n",
        "    merge_cols(x), pm25_categories(y)))\n",
        "\n",
        "test_ds = test_ds.map(lambda x, y: (\n",
        "    merge_cols(x), pm25_categories(y)))\n",
        "\n",
        "test_ds"
      ]
    },
    {
      "cell_type": "code",
      "execution_count": null,
      "id": "113af715",
      "metadata": {
        "id": "113af715"
      },
      "outputs": [],
      "source": [
        "def extract_features(dataset):\n",
        "    \"\"\"\n",
        "    Extracts features and target labels from a batched dataset and then converts them to NumPy arrays\n",
        "\n",
        "    Parameters:\n",
        "        dataset (tf.data.Dataset) - A batched dataset.\n",
        "\n",
        "    Returns:\n",
        "        tuple: A tuple (X, y) X being the features and y being the labels\n",
        "    \"\"\"\n",
        "    X_ds = dataset.map(lambda x, y: x)\n",
        "    y_ds = dataset.map(lambda x, y: y)\n",
        "    X = next(iter(X_ds))\n",
        "    y = next(iter(y_ds))\n",
        "    X = np.concatenate(list(X_ds.as_numpy_iterator()))    #this converts my data to a numpy X_train, y_train etc.. for rf\n",
        "    y = np.concatenate(list(y_ds.as_numpy_iterator()))\n",
        "    return X, y"
      ]
    },
    {
      "cell_type": "code",
      "execution_count": null,
      "id": "0a38c2c2",
      "metadata": {
        "id": "0a38c2c2"
      },
      "outputs": [],
      "source": [
        "def windowify(dataset, window_size=SEQUENCE_LEN, batch_size=BATCH_SIZE):\n",
        "    fds = dataset.unbatch().window(window_size, shift=1)\n",
        "    fds_x = fds.flat_map(\n",
        "        lambda x, y: x.batch(window_size, drop_remainder=True))\n",
        "    fds_y = fds.flat_map(\n",
        "        lambda x, y: y.batch(window_size, drop_remainder=True))\n",
        "    fds_y = fds_y.map(lambda y: y[-1, :])\n",
        "    fds = tf.data.Dataset.zip((fds_x, fds_y))\n",
        "    fds = fds.shuffle(1000)\n",
        "    fds = fds.cache()\n",
        "    fds = fds.batch(batch_size)\n",
        "    return fds"
      ]
    },
    {
      "cell_type": "code",
      "execution_count": null,
      "id": "6b02a51e",
      "metadata": {
        "id": "6b02a51e",
        "outputId": "070834a0-cca6-4dfc-a429-aa8563588637"
      },
      "outputs": [
        {
          "data": {
            "text/plain": [
              "<BatchDataset element_spec=(TensorSpec(shape=(None, 5, 16), dtype=tf.float32, name=None), TensorSpec(shape=(None, 4), dtype=tf.float32, name=None))>"
            ]
          },
          "execution_count": 11,
          "metadata": {},
          "output_type": "execute_result"
        }
      ],
      "source": [
        "train_ds = windowify(train_ds)\n",
        "validation_ds = windowify(validation_ds)   # this is data that has no pca\n",
        "test_ds = windowify(test_ds)\n",
        "train_ds"
      ]
    },
    {
      "cell_type": "markdown",
      "id": "beb75b00",
      "metadata": {
        "id": "beb75b00"
      },
      "source": [
        "# Create X, y data"
      ]
    },
    {
      "cell_type": "code",
      "execution_count": null,
      "id": "8e7a874f",
      "metadata": {
        "id": "8e7a874f"
      },
      "outputs": [],
      "source": [
        "X_train, y_train = extract_features(train_ds)\n",
        "X_test, y_test = extract_features(test_ds)\n",
        "X_valid, y_valid = extract_features(validation_ds)"
      ]
    },
    {
      "cell_type": "code",
      "execution_count": null,
      "id": "9927f897",
      "metadata": {
        "id": "9927f897",
        "outputId": "25445447-b97f-445a-b293-c3aa7ae7164e"
      },
      "outputs": [
        {
          "data": {
            "text/plain": [
              "((222475, 5, 16), (222475, 4))"
            ]
          },
          "execution_count": 13,
          "metadata": {},
          "output_type": "execute_result"
        }
      ],
      "source": [
        "X_train.shape, y_train.shape"
      ]
    },
    {
      "cell_type": "markdown",
      "id": "188a585f",
      "metadata": {
        "id": "188a585f"
      },
      "source": [
        "# Apply PCA"
      ]
    },
    {
      "cell_type": "code",
      "execution_count": null,
      "id": "d3a8158c",
      "metadata": {
        "id": "d3a8158c"
      },
      "outputs": [],
      "source": [
        "X_train_flat = np.reshape(X_train, (-1, X_train.shape[-1]))\n",
        "X_valid_flat = np.reshape(X_valid, (-1, X_valid.shape[-1]))\n",
        "X_test_flat = np.reshape(X_test, (-1, X_test.shape[-1]))"
      ]
    },
    {
      "cell_type": "code",
      "execution_count": null,
      "id": "c9b72377",
      "metadata": {
        "id": "c9b72377"
      },
      "outputs": [],
      "source": [
        "pca = PCA(n_components=15)\n",
        "pca.fit(X_train_flat)\n",
        "\n",
        "X_transformed = pca.transform(X_train_flat)\n",
        "X_valid_transformed = pca.transform(X_valid_flat)\n",
        "X_test_transformed = pca.transform(X_test_flat)"
      ]
    },
    {
      "cell_type": "code",
      "execution_count": null,
      "id": "8feb2659",
      "metadata": {
        "id": "8feb2659"
      },
      "outputs": [],
      "source": [
        "X_transformed = np.reshape(X_transformed, (X_train.shape[0], X_train.shape[1], -1))\n",
        "X_valid_transformed = np.reshape(X_valid_transformed, (X_valid.shape[0], X_valid.shape[1], -1))\n",
        "X_test_transformed = np.reshape(X_test_transformed, (X_test.shape[0], X_test.shape[1], -1))"
      ]
    },
    {
      "cell_type": "code",
      "execution_count": null,
      "id": "c3bbec4b",
      "metadata": {
        "id": "c3bbec4b"
      },
      "outputs": [],
      "source": [
        "import tensorflow as tf\n",
        "\n",
        "def my_generator():\n",
        "    for i in range(len(X_transformed)):\n",
        "        yield X_transformed[i], y_train[i]\n",
        "\n",
        "\n",
        "dataset = tf.data.Dataset.from_generator(\n",
        "    lambda: my_generator(),\n",
        "    output_types=(tf.float32, tf.float32),\n",
        "    output_shapes=((SEQUENCE_LEN, X_transformed.shape[2]), (NUM_CLASSES,)) # this was code i was messing with to get the function below working\n",
        ")\n",
        "dataset = dataset.shuffle(buffer_size=1000)\n",
        "dataset = dataset.batch(batch_size)\n"
      ]
    },
    {
      "cell_type": "code",
      "execution_count": null,
      "id": "5d033269",
      "metadata": {
        "id": "5d033269"
      },
      "outputs": [],
      "source": [
        "def create_dataset(X, y, shuffle=True, cache=True):\n",
        "    \"\"\"\n",
        "    Creates a TensorFlow dataset from the given input and target. As i couldn't get TF slices method of batching data\n",
        "    to work.\n",
        "\n",
        "    Args:\n",
        "        X (np.ndarray): Input array of windowed data with shape (num_samples, sequence_length, num_features).\n",
        "        y (np.ndarray): Target array with shape (num_samples, num_classes).\n",
        "        shuffle (bool, optional): Whether to shuffle the data. Defaults to True.\n",
        "        cache (bool, optional): Whether to cache the dataset in memory. Defaults to True.\n",
        "\n",
        "    Returns:\n",
        "        tf.data.Dataset: A TF dataset object containing the input and target data.\n",
        "    \"\"\"\n",
        "    def my_generator():\n",
        "        for i in range(len(X)):\n",
        "            yield X[i], y[i]\n",
        "\n",
        "    dataset = tf.data.Dataset.from_generator(\n",
        "        lambda: my_generator(),\n",
        "        output_types=(tf.float32, tf.float32),\n",
        "        output_shapes=((SEQUENCE_LEN, X.shape[2]), (NUM_CLASSES,))\n",
        "    )\n",
        "\n",
        "    if shuffle:\n",
        "        dataset = dataset.shuffle(buffer_size=1000)\n",
        "\n",
        "    if cache:\n",
        "        dataset = dataset.cache()\n",
        "\n",
        "    dataset = dataset.batch(batch_size)\n",
        "\n",
        "    return dataset"
      ]
    },
    {
      "cell_type": "code",
      "execution_count": null,
      "id": "fc909a01",
      "metadata": {
        "id": "fc909a01"
      },
      "outputs": [],
      "source": [
        "train_ds_pca = create_dataset(X_transformed, y_train)\n",
        "valid_ds_pca = create_dataset(X_valid_transformed, y_valid) #create batched datasets for pca data\n",
        "test_ds_pca = create_dataset(X_test_transformed, y_test)"
      ]
    },
    {
      "cell_type": "code",
      "execution_count": null,
      "id": "2ce971f1",
      "metadata": {
        "id": "2ce971f1"
      },
      "outputs": [],
      "source": [
        "X_train = np.reshape(X_train, (X_train.shape[0], -1))\n",
        "X_valid = np.reshape(X_valid, (X_valid.shape[0], -1))  #reshape data so its suitable for RF\n",
        "X_test = np.reshape(X_test, (X_test.shape[0], -1))"
      ]
    },
    {
      "cell_type": "code",
      "execution_count": null,
      "id": "dd7fd957",
      "metadata": {
        "id": "dd7fd957",
        "outputId": "c16b37e0-0b64-410c-bde9-155f8618ac08"
      },
      "outputs": [
        {
          "data": {
            "text/plain": [
              "<BatchDataset element_spec=(TensorSpec(shape=(None, 5, 15), dtype=tf.float32, name=None), TensorSpec(shape=(None, 4), dtype=tf.float32, name=None))>"
            ]
          },
          "execution_count": 21,
          "metadata": {},
          "output_type": "execute_result"
        }
      ],
      "source": [
        "train_ds_pca"
      ]
    },
    {
      "cell_type": "code",
      "execution_count": null,
      "id": "9a32bf24",
      "metadata": {
        "id": "9a32bf24",
        "outputId": "faa3009c-c424-496e-d222-e0ed45853cc6"
      },
      "outputs": [
        {
          "data": {
            "text/plain": [
              "<BatchDataset element_spec=(TensorSpec(shape=(None, 5, 16), dtype=tf.float32, name=None), TensorSpec(shape=(None, 4), dtype=tf.float32, name=None))>"
            ]
          },
          "execution_count": 22,
          "metadata": {},
          "output_type": "execute_result"
        }
      ],
      "source": [
        "train_ds"
      ]
    },
    {
      "cell_type": "markdown",
      "id": "5994647b",
      "metadata": {
        "id": "5994647b"
      },
      "source": [
        "# Evaluation"
      ]
    },
    {
      "cell_type": "code",
      "execution_count": null,
      "id": "56e70576",
      "metadata": {
        "id": "56e70576"
      },
      "outputs": [],
      "source": [
        "# avoid tripping up with generic global variables used in sample code\n",
        "model = None\n",
        "history = None"
      ]
    },
    {
      "cell_type": "markdown",
      "id": "61a84ff7",
      "metadata": {
        "id": "61a84ff7"
      },
      "source": [
        "# LSTM_BASE Model Evaluation"
      ]
    },
    {
      "cell_type": "code",
      "execution_count": null,
      "id": "0c41eb3f",
      "metadata": {
        "id": "0c41eb3f"
      },
      "outputs": [],
      "source": [
        "lstm_base = tf.keras.models.load_model('lstm_base.h5')\n",
        "with open('lstm_base.json') as f:\n",
        "    lstm_base_history = json.load(f)"
      ]
    },
    {
      "cell_type": "code",
      "execution_count": null,
      "id": "96c32dc6",
      "metadata": {
        "id": "96c32dc6",
        "outputId": "90d7f170-ee06-49b5-e3af-5f75ffb0677c"
      },
      "outputs": [
        {
          "name": "stdout",
          "output_type": "stream",
          "text": [
            "1739/1739 [==============================] - 33s 18ms/step - loss: 0.4311 - accuracy: 0.8279\n"
          ]
        },
        {
          "data": {
            "text/plain": [
              "{'loss': 0.4311191141605377, 'accuracy': 0.8278548121452332}"
            ]
          },
          "execution_count": 14,
          "metadata": {},
          "output_type": "execute_result"
        }
      ],
      "source": [
        "lstm_base.evaluate(train_ds, return_dict=True) # train evaluation"
      ]
    },
    {
      "cell_type": "code",
      "execution_count": null,
      "id": "cb1a8c9d",
      "metadata": {
        "id": "cb1a8c9d",
        "outputId": "be701ca9-8117-4932-8c88-d3041da53bf6"
      },
      "outputs": [
        {
          "name": "stdout",
          "output_type": "stream",
          "text": [
            "512/512 [==============================] - 9s 17ms/step - loss: 0.3959 - accuracy: 0.8370\n"
          ]
        },
        {
          "data": {
            "text/plain": [
              "{'loss': 0.3959138095378876, 'accuracy': 0.8370115756988525}"
            ]
          },
          "execution_count": 15,
          "metadata": {},
          "output_type": "execute_result"
        }
      ],
      "source": [
        "lstm_base.evaluate(validation_ds, return_dict=True) # validation evaluation"
      ]
    },
    {
      "cell_type": "code",
      "execution_count": null,
      "id": "9eae19e6",
      "metadata": {
        "id": "9eae19e6",
        "outputId": "1080aac2-815f-4a6d-e838-e1af670513b7"
      },
      "outputs": [
        {
          "data": {
            "image/png": "[encoded data removed]",
            "text/plain": [
              "<Figure size 432x288 with 1 Axes>"
            ]
          },
          "metadata": {
            "needs_background": "light"
          },
          "output_type": "display_data"
        },
        {
          "data": {
            "image/png": "[encoded data removed]",
            "text/plain": [
              "<Figure size 432x288 with 1 Axes>"
            ]
          },
          "metadata": {
            "needs_background": "light"
          },
          "output_type": "display_data"
        }
      ],
      "source": [
        "train_acc = lstm_base_history['accuracy']\n",
        "val_acc = lstm_base_history['val_accuracy']\n",
        "train_loss = lstm_base_history['loss']\n",
        "val_loss = lstm_base_history['val_loss']\n",
        "plt.show()\n",
        "\n",
        "epochs = range(1, len(train_acc)+1)\n",
        "plt.plot(epochs, train_acc, 'bo', label = 'Training acc')\n",
        "plt.plot(epochs, val_acc, 'r', label = 'Validation acc')\n",
        "plt.title('LSTM_BASE Training and validation accuracy')\n",
        "plt.legend() # show legend\n",
        "plt.xlabel('Epochs')\n",
        "plt.ylabel('Accuracy')\n",
        "plt.show()\n",
        "\n",
        "plt.plot(epochs, train_loss, 'bo', label = 'Training loss')\n",
        "plt.plot(epochs, val_loss, 'r', label = 'Validation loss')\n",
        "plt.title('LSTM BASE Training and validation loss')\n",
        "plt.legend()\n",
        "plt.xlabel('Epochs')\n",
        "plt.ylabel('Loss')\n",
        "plt.show()"
      ]
    },
    {
      "cell_type": "code",
      "execution_count": null,
      "id": "7056891f",
      "metadata": {
        "id": "7056891f",
        "outputId": "07a2d33c-4b22-404f-9de9-244fe03b5087"
      },
      "outputs": [
        {
          "name": "stdout",
          "output_type": "stream",
          "text": [
            "\n",
            "\n",
            "AUC: 0.9678483121826205\n",
            "\n",
            "\n",
            "Class report:\n",
            "               precision    recall  f1-score   support\n",
            "\n",
            "           0       0.93      0.88      0.91     25038\n",
            "           1       0.71      0.77      0.74     15691\n",
            "           2       0.82      0.78      0.80     15377\n",
            "           3       0.85      0.93      0.89      9414\n",
            "\n",
            "    accuracy                           0.84     65520\n",
            "   macro avg       0.83      0.84      0.83     65520\n",
            "weighted avg       0.84      0.84      0.84     65520\n",
            "\n",
            "\n",
            "\n",
            "Confusion Matrix:\n",
            " [[22051  2921    56    10]\n",
            " [ 1578 12098  1991    24]\n",
            " [   25  1896 11944  1512]\n",
            " [    9    27   630  8748]]\n"
          ]
        }
      ],
      "source": [
        "y_pred_probs = lstm_base.predict(validation_ds)\n",
        "\n",
        "\n",
        "y_pred = np.argmax(y_pred_probs, axis=1)\n",
        "\n",
        "\n",
        "y_true = np.concatenate([y for x, y in validation_ds], axis=0)\n",
        "y_true = np.argmax(y_true, axis=1)\n",
        "\n",
        "\n",
        "class_report = classification_report(y_true, y_pred)\n",
        "auc = roc_auc_score(y_true, y_pred_probs, multi_class='ovr')\n",
        "print(\"\\n\")\n",
        "\n",
        "print(\"AUC:\", auc)\n",
        "print(\"\\n\")\n",
        "print(\"Class report:\\n\", class_report)\n",
        "print(\"\\n\")\n",
        "print(\"Confusion Matrix:\\n\", confusion_matrix(y_true, y_pred))\n"
      ]
    },
    {
      "cell_type": "markdown",
      "id": "89037f2f",
      "metadata": {
        "id": "89037f2f"
      },
      "source": [
        "Lets make the confusion matrix a bit nicer"
      ]
    },
    {
      "cell_type": "code",
      "execution_count": null,
      "id": "80cedda7",
      "metadata": {
        "id": "80cedda7",
        "outputId": "80fa574f-b5ac-4909-8eef-f969dc384801"
      },
      "outputs": [
        {
          "data": {
            "image/png": "[encoded data removed]",
            "text/plain": [
              "<Figure size 576x576 with 2 Axes>"
            ]
          },
          "metadata": {
            "needs_background": "light"
          },
          "output_type": "display_data"
        }
      ],
      "source": [
        "from sklearn.metrics import confusion_matrix, ConfusionMatrixDisplay\n",
        "\n",
        "# creates confusion matrix obk\n",
        "cm = confusion_matrix(y_true, y_pred)\n",
        "\n",
        "# Displays it\n",
        "display_labels = ['<=35', '36-75', '76-150', '>151 ']\n",
        "fig, ax = plt.subplots(figsize=(8, 8))\n",
        "ax.set_title(\"LSTM_Base\")\n",
        "disp = ConfusionMatrixDisplay(confusion_matrix=cm, display_labels=display_labels)\n",
        "disp.plot(ax=ax);\n",
        "plt.show()\n"
      ]
    },
    {
      "cell_type": "markdown",
      "id": "3d4c1ce7",
      "metadata": {
        "id": "3d4c1ce7"
      },
      "source": [
        "# LSTM_PCA Model Evaluation"
      ]
    },
    {
      "cell_type": "code",
      "execution_count": null,
      "id": "e8d32568",
      "metadata": {
        "id": "e8d32568"
      },
      "outputs": [],
      "source": [
        "lstm_pca = tf.keras.models.load_model('lstm_pca.h5')\n",
        "with open('lstm_pca.json') as f:\n",
        "    lstm_pca_history = json.load(f)"
      ]
    },
    {
      "cell_type": "code",
      "execution_count": null,
      "id": "e283e3c9",
      "metadata": {
        "id": "e283e3c9",
        "outputId": "99b619ee-5145-4cb5-f205-befd316433d5"
      },
      "outputs": [
        {
          "name": "stdout",
          "output_type": "stream",
          "text": [
            "1739/1739 [==============================] - 25s 14ms/step - loss: 0.3922 - accuracy: 0.8458\n"
          ]
        },
        {
          "data": {
            "text/plain": [
              "{'loss': 0.39223140478134155, 'accuracy': 0.8458253741264343}"
            ]
          },
          "execution_count": 31,
          "metadata": {},
          "output_type": "execute_result"
        }
      ],
      "source": [
        "lstm_pca.evaluate(train_ds_pca, return_dict=True) # train evaluation"
      ]
    },
    {
      "cell_type": "code",
      "execution_count": null,
      "id": "0ff22fc0",
      "metadata": {
        "id": "0ff22fc0",
        "outputId": "2ee1f02e-1b0a-49de-c058-fdb544e39836"
      },
      "outputs": [
        {
          "name": "stdout",
          "output_type": "stream",
          "text": [
            "512/512 [==============================] - 7s 14ms/step - loss: 0.3787 - accuracy: 0.8481\n"
          ]
        },
        {
          "data": {
            "text/plain": [
              "{'loss': 0.37867075204849243, 'accuracy': 0.8481074571609497}"
            ]
          },
          "execution_count": 32,
          "metadata": {},
          "output_type": "execute_result"
        }
      ],
      "source": [
        "lstm_pca.evaluate(valid_ds_pca, return_dict=True) # validation evaluation"
      ]
    },
    {
      "cell_type": "code",
      "execution_count": null,
      "id": "f550e55d",
      "metadata": {
        "id": "f550e55d",
        "outputId": "f96ee9af-687a-4e3a-82e6-c46401a5b44c"
      },
      "outputs": [
        {
          "data": {
            "image/png": "[encoded data removed]",
            "text/plain": [
              "<Figure size 432x288 with 1 Axes>"
            ]
          },
          "metadata": {
            "needs_background": "light"
          },
          "output_type": "display_data"
        },
        {
          "data": {
            "image/png": "[encoded data removed]",
            "text/plain": [
              "<Figure size 432x288 with 1 Axes>"
            ]
          },
          "metadata": {
            "needs_background": "light"
          },
          "output_type": "display_data"
        }
      ],
      "source": [
        "train_acc = lstm_pca_history['accuracy']\n",
        "val_acc = lstm_pca_history['val_accuracy']\n",
        "train_loss = lstm_pca_history['loss']\n",
        "val_loss = lstm_pca_history['val_loss']\n",
        "plt.show()\n",
        "\n",
        "epochs = range(1, len(train_acc)+1)\n",
        "plt.plot(epochs, train_acc, 'bo', label = 'Training acc')\n",
        "plt.plot(epochs, val_acc, 'r', label = 'Validation acc')\n",
        "plt.title('LSTM PCA Training and validation accuracy')\n",
        "plt.legend() # show legend\n",
        "plt.xlabel('Epochs')\n",
        "plt.ylabel('Accuracy')\n",
        "plt.show()\n",
        "\n",
        "plt.plot(epochs, train_loss, 'bo', label = 'Training loss')\n",
        "plt.plot(epochs, val_loss, 'r', label = 'Validation loss')\n",
        "plt.title('LSTM PCA Training and validation loss')\n",
        "plt.legend()\n",
        "plt.xlabel('Epochs')\n",
        "plt.ylabel('Loss')\n",
        "plt.show()"
      ]
    },
    {
      "cell_type": "code",
      "execution_count": null,
      "id": "55e9655a",
      "metadata": {
        "id": "55e9655a",
        "outputId": "d66900ee-f213-4e64-9560-ca236632bd85"
      },
      "outputs": [
        {
          "name": "stdout",
          "output_type": "stream",
          "text": [
            "\n",
            "\n",
            "AUC: 0.9705235594266247\n",
            "\n",
            "\n",
            "Class report:\n",
            "               precision    recall  f1-score   support\n",
            "\n",
            "           0       0.91      0.92      0.92     25038\n",
            "           1       0.75      0.75      0.75     15691\n",
            "           2       0.81      0.81      0.81     15377\n",
            "           3       0.89      0.89      0.89      9414\n",
            "\n",
            "    accuracy                           0.85     65520\n",
            "   macro avg       0.84      0.84      0.84     65520\n",
            "weighted avg       0.85      0.85      0.85     65520\n",
            "\n"
          ]
        }
      ],
      "source": [
        "y_pred_probs = lstm_pca.predict(valid_ds_pca)\n",
        "\n",
        "\n",
        "y_pred = np.argmax(y_pred_probs, axis=1)\n",
        "\n",
        "\n",
        "y_true = np.concatenate([y for x, y in valid_ds_pca], axis=0)\n",
        "y_true = np.argmax(y_true, axis=1)\n",
        "\n",
        "\n",
        "class_report = classification_report(y_true, y_pred)\n",
        "auc = roc_auc_score(y_true, y_pred_probs, multi_class='ovr')\n",
        "print(\"\\n\")\n",
        "# display results\n",
        "print(\"AUC:\", auc)\n",
        "print(\"\\n\")\n",
        "print(\"Class report:\\n\", class_report)\n"
      ]
    },
    {
      "cell_type": "code",
      "execution_count": null,
      "id": "5ce9e344",
      "metadata": {
        "id": "5ce9e344",
        "outputId": "2b98f6ec-9bf2-4985-e86d-15e73fb0561e"
      },
      "outputs": [
        {
          "data": {
            "image/png": "[encoded data removed]",
            "text/plain": [
              "<Figure size 576x576 with 2 Axes>"
            ]
          },
          "metadata": {
            "needs_background": "light"
          },
          "output_type": "display_data"
        }
      ],
      "source": [
        "cm = confusion_matrix(y_true, y_pred)\n",
        "\n",
        "display_labels = ['<=35', '36-75', '76-150', '>151 ']\n",
        "fig, ax = plt.subplots(figsize=(8, 8))\n",
        "ax.set_title(\"LSTM_PCA\")\n",
        "disp = ConfusionMatrixDisplay(confusion_matrix=cm, display_labels=display_labels)\n",
        "disp.plot(ax=ax, values_format = '.0f');\n",
        "plt.show()\n"
      ]
    },
    {
      "cell_type": "markdown",
      "id": "f28677a5",
      "metadata": {
        "id": "f28677a5"
      },
      "source": [
        "# LSTM_DEEP Model Evaluation"
      ]
    },
    {
      "cell_type": "code",
      "execution_count": null,
      "id": "1cd71934",
      "metadata": {
        "id": "1cd71934"
      },
      "outputs": [],
      "source": [
        "lstm_deep = tf.keras.models.load_model('lstm_deep.h5')\n",
        "with open('lstm_deep.json') as f:\n",
        "    lstm_deep_history = json.load(f)"
      ]
    },
    {
      "cell_type": "code",
      "execution_count": null,
      "id": "25612f5f",
      "metadata": {
        "id": "25612f5f",
        "outputId": "0b223cd9-7865-4a9d-a268-d73b802e1875"
      },
      "outputs": [
        {
          "name": "stdout",
          "output_type": "stream",
          "text": [
            "1739/1739 [==============================] - 6s 3ms/step - loss: 0.4467 - accuracy: 0.8271\n"
          ]
        },
        {
          "data": {
            "text/plain": [
              "{'loss': 0.4467023015022278, 'accuracy': 0.8271041512489319}"
            ]
          },
          "execution_count": 37,
          "metadata": {},
          "output_type": "execute_result"
        }
      ],
      "source": [
        "lstm_deep.evaluate(train_ds, return_dict=True) # train evaluation"
      ]
    },
    {
      "cell_type": "code",
      "execution_count": null,
      "id": "14ff7da7",
      "metadata": {
        "id": "14ff7da7",
        "outputId": "3b1af9f0-2f67-4e94-f4b3-57b53acd55cd"
      },
      "outputs": [
        {
          "name": "stdout",
          "output_type": "stream",
          "text": [
            "512/512 [==============================] - 1s 3ms/step - loss: 0.3840 - accuracy: 0.8434\n"
          ]
        },
        {
          "data": {
            "text/plain": [
              "{'loss': 0.3840198516845703, 'accuracy': 0.843406617641449}"
            ]
          },
          "execution_count": 38,
          "metadata": {},
          "output_type": "execute_result"
        }
      ],
      "source": [
        "lstm_deep.evaluate(validation_ds, return_dict=True) # validation evaluation"
      ]
    },
    {
      "cell_type": "code",
      "execution_count": null,
      "id": "16a0d730",
      "metadata": {
        "id": "16a0d730",
        "outputId": "a7c949e3-d846-42cf-c38a-a03e4d007f35"
      },
      "outputs": [
        {
          "data": {
            "image/png": "[encoded data removed]",
            "text/plain": [
              "<Figure size 432x288 with 1 Axes>"
            ]
          },
          "metadata": {
            "needs_background": "light"
          },
          "output_type": "display_data"
        },
        {
          "data": {
            "image/png": "[encoded data removed]",
            "text/plain": [
              "<Figure size 432x288 with 1 Axes>"
            ]
          },
          "metadata": {
            "needs_background": "light"
          },
          "output_type": "display_data"
        }
      ],
      "source": [
        "train_acc = lstm_deep_history['accuracy']\n",
        "val_acc = lstm_deep_history['val_accuracy']\n",
        "train_loss = lstm_deep_history['loss']\n",
        "val_loss = lstm_deep_history['val_loss']\n",
        "plt.show()\n",
        "\n",
        "epochs = range(1, len(train_acc)+1)\n",
        "plt.plot(epochs, train_acc, 'bo', label = 'Training acc')\n",
        "plt.plot(epochs, val_acc, 'r', label = 'Validation acc')\n",
        "plt.title('LSTM DEEP Training and validation accuracy')\n",
        "plt.legend() # show legend\n",
        "plt.xlabel('Epochs')\n",
        "plt.ylabel('Accuracy')\n",
        "plt.show()\n",
        "\n",
        "plt.plot(epochs, train_loss, 'bo', label = 'Training loss')\n",
        "plt.plot(epochs, val_loss, 'r', label = 'Validation loss')\n",
        "plt.title('LSTM DEEP Training and validation loss')\n",
        "plt.legend()\n",
        "plt.xlabel('Epochs')\n",
        "plt.ylabel('Loss')\n",
        "plt.show()"
      ]
    },
    {
      "cell_type": "code",
      "execution_count": null,
      "id": "eb405619",
      "metadata": {
        "id": "eb405619",
        "outputId": "d1371ef8-9291-4aa9-e8e1-5eff958600c4"
      },
      "outputs": [
        {
          "name": "stdout",
          "output_type": "stream",
          "text": [
            "\n",
            "\n",
            "AUC: 0.9700822451624619\n",
            "\n",
            "\n",
            "Class report:\n",
            "               precision    recall  f1-score   support\n",
            "\n",
            "           0       0.95      0.87      0.91     25038\n",
            "           1       0.72      0.79      0.75     15691\n",
            "           2       0.81      0.81      0.81     15377\n",
            "           3       0.87      0.92      0.89      9414\n",
            "\n",
            "    accuracy                           0.84     65520\n",
            "   macro avg       0.84      0.85      0.84     65520\n",
            "weighted avg       0.85      0.84      0.85     65520\n",
            "\n"
          ]
        }
      ],
      "source": [
        "y_pred_probs = lstm_deep.predict(validation_ds)\n",
        "\n",
        "\n",
        "y_pred = np.argmax(y_pred_probs, axis=1)\n",
        "\n",
        "y_true = np.concatenate([y for x, y in validation_ds], axis=0)\n",
        "y_true = np.argmax(y_true, axis=1)\n",
        "\n",
        "class_report = classification_report(y_true, y_pred)\n",
        "auc = roc_auc_score(y_true, y_pred_probs, multi_class='ovr')\n",
        "print(\"\\n\")\n",
        "print(\"AUC:\", auc)\n",
        "print(\"\\n\")\n",
        "print(\"Class report:\\n\", class_report)"
      ]
    },
    {
      "cell_type": "code",
      "execution_count": null,
      "id": "acb74bc3",
      "metadata": {
        "id": "acb74bc3",
        "outputId": "72e090fe-4f2a-4682-9ea4-a24836fd1bff"
      },
      "outputs": [
        {
          "data": {
            "image/png": "[encoded data removed]",
            "text/plain": [
              "<Figure size 576x576 with 2 Axes>"
            ]
          },
          "metadata": {
            "needs_background": "light"
          },
          "output_type": "display_data"
        }
      ],
      "source": [
        "cm = confusion_matrix(y_true, y_pred)\n",
        "\n",
        "\n",
        "display_labels = ['<=35', '36-75', '76-150', '>151 ']\n",
        "fig, ax = plt.subplots(figsize=(8, 8))\n",
        "ax.set_title(\"LSTM_DEEP\")\n",
        "disp = ConfusionMatrixDisplay(confusion_matrix=cm, display_labels=display_labels)\n",
        "disp.plot(ax=ax, values_format = '.0f');\n",
        "plt.show()"
      ]
    },
    {
      "cell_type": "markdown",
      "id": "c8784e7d",
      "metadata": {
        "id": "c8784e7d"
      },
      "source": [
        "# Plain RF model evaluation"
      ]
    },
    {
      "cell_type": "code",
      "execution_count": null,
      "id": "71fb5176",
      "metadata": {
        "id": "71fb5176"
      },
      "outputs": [],
      "source": [
        "rfp = joblib.load('rfp_model.joblib')"
      ]
    },
    {
      "cell_type": "code",
      "execution_count": null,
      "id": "71329e0a",
      "metadata": {
        "id": "71329e0a",
        "outputId": "0db065fa-448d-40be-f67d-6bd315f83108"
      },
      "outputs": [
        {
          "name": "stdout",
          "output_type": "stream",
          "text": [
            "Validation Accuracy: 0.8601190476190477\n",
            "Training Accuracy: 0.9999910102258681\n"
          ]
        }
      ],
      "source": [
        "valid = rfp.score(X_valid, y_valid)\n",
        "train = rfp.score(X_train, y_train)\n",
        "\n",
        "print(\"Validation Accuracy:\", valid)\n",
        "print(\"Training Accuracy:\", train)"
      ]
    },
    {
      "cell_type": "code",
      "execution_count": null,
      "id": "74e4bd36",
      "metadata": {
        "id": "74e4bd36",
        "outputId": "3a23535c-84e2-4052-cfc3-b988eec0cd0e"
      },
      "outputs": [
        {
          "name": "stdout",
          "output_type": "stream",
          "text": [
            "AUC score: 0.9099929961458271\n",
            "\n",
            "\n",
            "              precision    recall  f1-score   support\n",
            "\n",
            "           0       0.95      0.92      0.94     25038\n",
            "           1       0.83      0.77      0.80     15691\n",
            "           2       0.86      0.84      0.85     15377\n",
            "           3       0.94      0.88      0.91      9414\n",
            "\n",
            "   micro avg       0.90      0.86      0.88     65520\n",
            "   macro avg       0.90      0.85      0.87     65520\n",
            "weighted avg       0.90      0.86      0.88     65520\n",
            " samples avg       0.86      0.86      0.86     65520\n",
            "\n"
          ]
        },
        {
          "name": "stderr",
          "output_type": "stream",
          "text": [
            "/usr/local/lib/python3.8/dist-packages/sklearn/metrics/_classification.py:1344: UndefinedMetricWarning: Precision and F-score are ill-defined and being set to 0.0 in samples with no predicted labels. Use `zero_division` parameter to control this behavior.\n",
            "  _warn_prf(average, modifier, msg_start, len(result))\n"
          ]
        }
      ],
      "source": [
        "y_pred = rfp.predict(X_valid)\n",
        "\n",
        "report = classification_report(y_valid, y_pred)\n",
        "\n",
        "auc_score = roc_auc_score(y_valid, y_pred)\n",
        "\n",
        "print('AUC score:', auc_score)\n",
        "print('\\n')\n",
        "print(report)"
      ]
    },
    {
      "cell_type": "code",
      "execution_count": null,
      "id": "f5e006c6",
      "metadata": {
        "id": "f5e006c6"
      },
      "outputs": [],
      "source": [
        "# Convert multilabel targets to one-hot encoded format\n",
        "y_valid_onehot = label_binarize(y_valid, classes=[0, 1, 2, 3]) # confusion matrix wasn't accepting y data before\n",
        "\n",
        "y_pred = rfp.predict(X_valid)\n",
        "y_pred = np.argmax(y_pred, axis=1)\n",
        "\n",
        "conf_mat = confusion_matrix(y_valid_onehot.argmax(axis=1), y_pred)\n"
      ]
    },
    {
      "cell_type": "code",
      "execution_count": null,
      "id": "1e6e76ee",
      "metadata": {
        "id": "1e6e76ee",
        "outputId": "ccda18e6-0c1d-4d21-c645-42c7ba086e55"
      },
      "outputs": [
        {
          "data": {
            "image/png": "[encoded data removed]",
            "text/plain": [
              "<Figure size 576x576 with 2 Axes>"
            ]
          },
          "metadata": {
            "needs_background": "light"
          },
          "output_type": "display_data"
        }
      ],
      "source": [
        "disp = ConfusionMatrixDisplay(confusion_matrix=conf_mat,\n",
        "                              display_labels=display_labels)\n",
        "fig, ax = plt.subplots(figsize=(8, 8))\n",
        "disp.plot(cmap=plt.cm.Blues, ax=ax)\n",
        "ax.set_title(\"RF_Plain\")\n",
        "plt.show()"
      ]
    },
    {
      "cell_type": "markdown",
      "id": "023454b7",
      "metadata": {
        "id": "023454b7"
      },
      "source": [
        " # hyperparameter RF model evaluation"
      ]
    },
    {
      "cell_type": "code",
      "execution_count": null,
      "id": "4abef10d",
      "metadata": {
        "id": "4abef10d"
      },
      "outputs": [],
      "source": [
        "rfh = joblib.load('rfh_model.joblib')"
      ]
    },
    {
      "cell_type": "code",
      "execution_count": null,
      "id": "c06e9a1a",
      "metadata": {
        "id": "c06e9a1a",
        "outputId": "0655041e-c9ab-4814-f408-a226ace07554"
      },
      "outputs": [
        {
          "name": "stdout",
          "output_type": "stream",
          "text": [
            "Validation Accuracy: 0.8646978021978022\n",
            "Training Accuracy: 0.99927632318238\n"
          ]
        }
      ],
      "source": [
        "valid = rfh.score(X_valid, y_valid)\n",
        "train = rfh.score(X_train, y_train)\n",
        "\n",
        "print(\"Validation Accuracy:\", valid)\n",
        "print(\"Training Accuracy:\", train)"
      ]
    },
    {
      "cell_type": "code",
      "execution_count": null,
      "id": "629e90eb",
      "metadata": {
        "scrolled": true,
        "id": "629e90eb",
        "outputId": "a241b423-aa29-44bc-fd41-817819bb51d8"
      },
      "outputs": [
        {
          "name": "stdout",
          "output_type": "stream",
          "text": [
            "AUC score: 0.9118866062336127\n",
            "\n",
            "\n",
            "              precision    recall  f1-score   support\n",
            "\n",
            "           0       0.95      0.93      0.94     25038\n",
            "           1       0.83      0.78      0.80     15691\n",
            "           2       0.86      0.85      0.85     15377\n",
            "           3       0.94      0.88      0.91      9414\n",
            "\n",
            "   micro avg       0.90      0.86      0.88     65520\n",
            "   macro avg       0.90      0.86      0.88     65520\n",
            "weighted avg       0.90      0.86      0.88     65520\n",
            " samples avg       0.86      0.86      0.86     65520\n",
            "\n"
          ]
        },
        {
          "name": "stderr",
          "output_type": "stream",
          "text": [
            "/usr/local/lib/python3.8/dist-packages/sklearn/metrics/_classification.py:1344: UndefinedMetricWarning: Precision and F-score are ill-defined and being set to 0.0 in samples with no predicted labels. Use `zero_division` parameter to control this behavior.\n",
            "  _warn_prf(average, modifier, msg_start, len(result))\n"
          ]
        }
      ],
      "source": [
        "y_pred = rfh.predict(X_valid)\n",
        "\n",
        "report = classification_report(y_valid, y_pred)\n",
        "auc_score = roc_auc_score(y_valid, y_pred)\n",
        "\n",
        "print('AUC score:', auc_score)\n",
        "print('\\n')\n",
        "\n",
        "print(report)"
      ]
    },
    {
      "cell_type": "code",
      "execution_count": null,
      "id": "1c5a61ab",
      "metadata": {
        "id": "1c5a61ab"
      },
      "outputs": [],
      "source": [
        "y_valid_onehot = label_binarize(y_valid, classes=[0, 1, 2, 3]) # confusion matrix wasn't accepting y data before\n",
        "\n",
        "\n",
        "y_pred = rfh.predict(X_valid)\n",
        "y_pred = np.argmax(y_pred, axis=1)\n",
        "\n",
        "\n",
        "conf_mat = confusion_matrix(y_valid_onehot.argmax(axis=1), y_pred)"
      ]
    },
    {
      "cell_type": "code",
      "execution_count": null,
      "id": "282b3a37",
      "metadata": {
        "id": "282b3a37",
        "outputId": "fc69838d-d3c5-467b-9262-8a2bb78ad584"
      },
      "outputs": [
        {
          "data": {
            "image/png": "[encoded data removed]",
            "text/plain": [
              "<Figure size 576x576 with 2 Axes>"
            ]
          },
          "metadata": {
            "needs_background": "light"
          },
          "output_type": "display_data"
        }
      ],
      "source": [
        "disp = ConfusionMatrixDisplay(confusion_matrix=conf_mat,\n",
        "                              display_labels=display_labels)\n",
        "fig, ax = plt.subplots(figsize=(8, 8))\n",
        "disp.plot(cmap=plt.cm.Blues, ax=ax)\n",
        "ax.set_title(\"RF_hyperparameter\")\n",
        "plt.show()"
      ]
    },
    {
      "cell_type": "markdown",
      "id": "fbd0b588",
      "metadata": {
        "id": "fbd0b588"
      },
      "source": [
        "# LSTM Final On Test with all three methods Data Evaluation"
      ]
    },
    {
      "cell_type": "code",
      "execution_count": null,
      "id": "274ed2f9",
      "metadata": {
        "id": "274ed2f9"
      },
      "outputs": [],
      "source": [
        "lstm_final = tf.keras.models.load_model('lstm_final.h5')\n",
        "with open('lstm_final.json') as f:\n",
        "    lstm_final_history = json.load(f)"
      ]
    },
    {
      "cell_type": "code",
      "execution_count": null,
      "id": "3871bdbd",
      "metadata": {
        "id": "3871bdbd",
        "outputId": "ed8a683c-3c2d-4282-fc85-923465944596"
      },
      "outputs": [
        {
          "name": "stdout",
          "output_type": "stream",
          "text": [
            "1739/1739 [==============================] - 5s 3ms/step - loss: 0.3944 - accuracy: 0.8495\n"
          ]
        },
        {
          "data": {
            "text/plain": [
              "{'loss': 0.39435845613479614, 'accuracy': 0.8495156764984131}"
            ]
          },
          "execution_count": 53,
          "metadata": {},
          "output_type": "execute_result"
        }
      ],
      "source": [
        "lstm_final.evaluate(train_ds_pca, return_dict=True) # train evaluation"
      ]
    },
    {
      "cell_type": "code",
      "execution_count": null,
      "id": "0ffcccf2",
      "metadata": {
        "id": "0ffcccf2",
        "outputId": "9907d3c6-af3f-4b1d-b2cf-b59bf20dc1f3"
      },
      "outputs": [
        {
          "name": "stdout",
          "output_type": "stream",
          "text": [
            "736/736 [==============================] - 11s 14ms/step - loss: 0.4051 - accuracy: 0.8467\n"
          ]
        },
        {
          "data": {
            "text/plain": [
              "{'loss': 0.4050832688808441, 'accuracy': 0.8467093706130981}"
            ]
          },
          "execution_count": 54,
          "metadata": {},
          "output_type": "execute_result"
        }
      ],
      "source": [
        "lstm_final.evaluate(test_ds_pca, return_dict=True) # test evaluation"
      ]
    },
    {
      "cell_type": "code",
      "execution_count": null,
      "id": "fcdee559",
      "metadata": {
        "id": "fcdee559",
        "outputId": "c36736dc-042d-4dcc-8a9d-1c8ac8130edf"
      },
      "outputs": [
        {
          "data": {
            "image/png": "[encoded data removed]",
            "text/plain": [
              "<Figure size 432x288 with 1 Axes>"
            ]
          },
          "metadata": {
            "needs_background": "light"
          },
          "output_type": "display_data"
        },
        {
          "data": {
            "image/png": "[encoded data removed]",
            "text/plain": [
              "<Figure size 432x288 with 1 Axes>"
            ]
          },
          "metadata": {
            "needs_background": "light"
          },
          "output_type": "display_data"
        }
      ],
      "source": [
        "train_acc = lstm_final_history['accuracy']\n",
        "val_acc = lstm_final_history['val_accuracy']\n",
        "train_loss = lstm_final_history['loss']\n",
        "val_loss = lstm_final_history['val_loss']\n",
        "plt.show()\n",
        "\n",
        "epochs = range(1, len(train_acc)+1)\n",
        "plt.plot(epochs, train_acc, 'bo', label = 'Training acc')\n",
        "plt.plot(epochs, val_acc, 'r', label = 'Validation acc')\n",
        "plt.title('LSTM Final Training and validation accuracy')\n",
        "plt.legend() # show legend\n",
        "plt.xlabel('Epochs')\n",
        "plt.ylabel('Accuracy')\n",
        "plt.show()\n",
        "\n",
        "plt.plot(epochs, train_loss, 'bo', label = 'Training loss')\n",
        "plt.plot(epochs, val_loss, 'r', label = 'Validation loss')\n",
        "plt.title('LSTM Final Training and validation loss')\n",
        "plt.legend()\n",
        "plt.xlabel('Epochs')\n",
        "plt.ylabel('Loss')\n",
        "plt.show()"
      ]
    },
    {
      "cell_type": "code",
      "execution_count": null,
      "id": "fa29a216",
      "metadata": {
        "id": "fa29a216",
        "outputId": "2f776d93-db50-4d3c-a6a9-635836c432db"
      },
      "outputs": [
        {
          "name": "stdout",
          "output_type": "stream",
          "text": [
            "\n",
            "\n",
            "AUC: 0.9690751955412787\n",
            "\n",
            "\n",
            "Class report:\n",
            "               precision    recall  f1-score   support\n",
            "\n",
            "           0       0.92      0.92      0.92     35267\n",
            "           1       0.77      0.72      0.75     22538\n",
            "           2       0.80      0.81      0.80     22532\n",
            "           3       0.86      0.92      0.88     13824\n",
            "\n",
            "    accuracy                           0.85     94161\n",
            "   macro avg       0.84      0.84      0.84     94161\n",
            "weighted avg       0.85      0.85      0.85     94161\n",
            "\n"
          ]
        }
      ],
      "source": [
        "y_pred_probs = lstm_final.predict(test_ds_pca)\n",
        "\n",
        "y_pred = np.argmax(y_pred_probs, axis=1)\n",
        "\n",
        "y_true = np.concatenate([y for x, y in test_ds_pca], axis=0)\n",
        "y_true = np.argmax(y_true, axis=1)\n",
        "\n",
        "class_report = classification_report(y_true, y_pred)\n",
        "auc = roc_auc_score(y_true, y_pred_probs, multi_class='ovr')\n",
        "print(\"\\n\")\n",
        "# display results\n",
        "print(\"AUC:\", auc)\n",
        "print(\"\\n\")\n",
        "print(\"Class report:\\n\", class_report)"
      ]
    },
    {
      "cell_type": "code",
      "execution_count": null,
      "id": "50fcf1c9",
      "metadata": {
        "id": "50fcf1c9",
        "outputId": "3d5aa469-9fd0-43f7-917c-14c8289e8bc1"
      },
      "outputs": [
        {
          "data": {
            "image/png": "[encoded data removed]",
            "text/plain": [
              "<Figure size 576x576 with 2 Axes>"
            ]
          },
          "metadata": {
            "needs_background": "light"
          },
          "output_type": "display_data"
        }
      ],
      "source": [
        "cm = confusion_matrix(y_true, y_pred)\n",
        "\n",
        "\n",
        "display_labels = ['<=35', '36-75', '76-150', '>151 ']\n",
        "fig, ax = plt.subplots(figsize=(8, 8))\n",
        "ax.set_title(\"LSTM_Final\")\n",
        "disp = ConfusionMatrixDisplay(confusion_matrix=cm, display_labels=display_labels)\n",
        "disp.plot(ax=ax, values_format = '.0f');\n",
        "plt.show()"
      ]
    },
    {
      "cell_type": "code",
      "execution_count": null,
      "id": "70877b2b",
      "metadata": {
        "id": "70877b2b"
      },
      "outputs": [],
      "source": []
    }
  ],
  "metadata": {
    "kernelspec": {
      "display_name": "Python 3",
      "language": "python",
      "name": "python3"
    },
    "language_info": {
      "codemirror_mode": {
        "name": "ipython",
        "version": 3
      },
      "file_extension": ".py",
      "mimetype": "text/x-python",
      "name": "python",
      "nbconvert_exporter": "python",
      "pygments_lexer": "ipython3",
      "version": "3.8.10"
    },
    "colab": {
      "provenance": []
    }
  },
  "nbformat": 4,
  "nbformat_minor": 5
}